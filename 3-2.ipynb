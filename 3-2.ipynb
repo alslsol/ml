{
 "cells": [
  {
   "cell_type": "code",
   "execution_count": 31,
   "id": "6e3aff2e-2fa8-4925-95e4-49cc330a49c3",
   "metadata": {},
   "outputs": [
    {
     "data": {
      "text/html": [
       "<div>\n",
       "<style scoped>\n",
       "    .dataframe tbody tr th:only-of-type {\n",
       "        vertical-align: middle;\n",
       "    }\n",
       "\n",
       "    .dataframe tbody tr th {\n",
       "        vertical-align: top;\n",
       "    }\n",
       "\n",
       "    .dataframe thead th {\n",
       "        text-align: right;\n",
       "    }\n",
       "</style>\n",
       "<table border=\"1\" class=\"dataframe\">\n",
       "  <thead>\n",
       "    <tr style=\"text-align: right;\">\n",
       "      <th></th>\n",
       "      <th>Species</th>\n",
       "      <th>Weight</th>\n",
       "      <th>Length1</th>\n",
       "      <th>Length2</th>\n",
       "      <th>Length3</th>\n",
       "      <th>Height</th>\n",
       "      <th>Width</th>\n",
       "    </tr>\n",
       "  </thead>\n",
       "  <tbody>\n",
       "    <tr>\n",
       "      <th>0</th>\n",
       "      <td>Bream</td>\n",
       "      <td>242.0</td>\n",
       "      <td>23.2</td>\n",
       "      <td>25.4</td>\n",
       "      <td>30.0</td>\n",
       "      <td>11.5200</td>\n",
       "      <td>4.0200</td>\n",
       "    </tr>\n",
       "    <tr>\n",
       "      <th>1</th>\n",
       "      <td>Bream</td>\n",
       "      <td>290.0</td>\n",
       "      <td>24.0</td>\n",
       "      <td>26.3</td>\n",
       "      <td>31.2</td>\n",
       "      <td>12.4800</td>\n",
       "      <td>4.3056</td>\n",
       "    </tr>\n",
       "    <tr>\n",
       "      <th>2</th>\n",
       "      <td>Bream</td>\n",
       "      <td>340.0</td>\n",
       "      <td>23.9</td>\n",
       "      <td>26.5</td>\n",
       "      <td>31.1</td>\n",
       "      <td>12.3778</td>\n",
       "      <td>4.6961</td>\n",
       "    </tr>\n",
       "    <tr>\n",
       "      <th>3</th>\n",
       "      <td>Bream</td>\n",
       "      <td>363.0</td>\n",
       "      <td>26.3</td>\n",
       "      <td>29.0</td>\n",
       "      <td>33.5</td>\n",
       "      <td>12.7300</td>\n",
       "      <td>4.4555</td>\n",
       "    </tr>\n",
       "    <tr>\n",
       "      <th>4</th>\n",
       "      <td>Bream</td>\n",
       "      <td>430.0</td>\n",
       "      <td>26.5</td>\n",
       "      <td>29.0</td>\n",
       "      <td>34.0</td>\n",
       "      <td>12.4440</td>\n",
       "      <td>5.1340</td>\n",
       "    </tr>\n",
       "  </tbody>\n",
       "</table>\n",
       "</div>"
      ],
      "text/plain": [
       "  Species  Weight  Length1  Length2  Length3   Height   Width\n",
       "0   Bream   242.0     23.2     25.4     30.0  11.5200  4.0200\n",
       "1   Bream   290.0     24.0     26.3     31.2  12.4800  4.3056\n",
       "2   Bream   340.0     23.9     26.5     31.1  12.3778  4.6961\n",
       "3   Bream   363.0     26.3     29.0     33.5  12.7300  4.4555\n",
       "4   Bream   430.0     26.5     29.0     34.0  12.4440  5.1340"
      ]
     },
     "execution_count": 31,
     "metadata": {},
     "output_type": "execute_result"
    }
   ],
   "source": [
    "# 선형 회귀\n",
    "\n",
    "import pandas as pd\n",
    "\n",
    "df = pd.read_csv('data/Fish.csv')\n",
    "df.head()"
   ]
  },
  {
   "cell_type": "code",
   "execution_count": 32,
   "id": "0331e1d3-d590-424b-a1b4-54196c88c604",
   "metadata": {},
   "outputs": [
    {
     "name": "stderr",
     "output_type": "stream",
     "text": [
      "C:\\Users\\1-08\\Desktop\\DAMF2\\ml\\venv\\Lib\\site-packages\\sklearn\\utils\\validation.py:2739: UserWarning: X does not have valid feature names, but LinearRegression was fitted with feature names\n",
      "  warnings.warn(\n"
     ]
    },
    {
     "data": {
      "text/plain": [
       "array([[2999.41766985]])"
      ]
     },
     "execution_count": 32,
     "metadata": {},
     "output_type": "execute_result"
    }
   ],
   "source": [
    "# 길이 기반으로 무게 예측하기\n",
    "\n",
    "# 도미 필터링 -> 길이/무게만 추출\n",
    "perch_df = df.loc[df['Species'] == 'Perch']\n",
    "perch_length = perch_df[['Length2']]\n",
    "perch_weight = perch_df[['Weight']]\n",
    "\n",
    "# 학습 데이터 만들기\n",
    "from sklearn.model_selection import train_test_split\n",
    "train_input, test_input, train_target, test_target = train_test_split(perch_length, perch_weight)\n",
    "    # 길이 기반으로 무게 찾을 거니까 이렇게 작성\n",
    "\n",
    "# 선형 회귀 알고리즘 가져오기: linear\n",
    "from sklearn.linear_model import LinearRegression\n",
    "lr = LinearRegression() # 인스턴스화\n",
    "lr.fit(train_input, train_target) # 2차원 아니어서 오류날 시, 처음에 data 만들 때 대괄호 2개로 만들어서 2차원 데이터로 만들기\n",
    "lr.score(test_input, test_target)\n",
    "\n",
    "# 예측하기: 50cm 도미 넣으면 무게는?\n",
    "lr.predict([[100]]) # 최근접은 무게 증가/감소할 때 최대/최소값 그대로임 -> 근데 선형회귀분석은 회귀선 기반으로 값 예측 가능"
   ]
  },
  {
   "cell_type": "code",
   "execution_count": 14,
   "id": "9ce2f007-6331-4b88-9785-2bde20474fce",
   "metadata": {},
   "outputs": [
    {
     "data": {
      "text/plain": [
       "array([[37.28413264]])"
      ]
     },
     "execution_count": 14,
     "metadata": {},
     "output_type": "execute_result"
    }
   ],
   "source": [
    "lr.coef_ # 가중치 출력"
   ]
  },
  {
   "cell_type": "code",
   "execution_count": 15,
   "id": "e1510bfc-d652-40ea-a739-2e8b1fbc3ec5",
   "metadata": {},
   "outputs": [
    {
     "data": {
      "text/plain": [
       "array([-663.49000461])"
      ]
     },
     "execution_count": 15,
     "metadata": {},
     "output_type": "execute_result"
    }
   ],
   "source": [
    "lr.intercept_ # "
   ]
  },
  {
   "cell_type": "code",
   "execution_count": 20,
   "id": "d3f5c1e8-ce86-42d2-a37c-2bfa5380e3ff",
   "metadata": {},
   "outputs": [
    {
     "data": {
      "text/plain": [
       "[<matplotlib.lines.Line2D at 0x16a5a1d4a50>]"
      ]
     },
     "execution_count": 20,
     "metadata": {},
     "output_type": "execute_result"
    },
    {
     "data": {
      "image/png": "[encoded data removed]",
      "text/plain": [
       "<Figure size 640x480 with 1 Axes>"
      ]
     },
     "metadata": {},
     "output_type": "display_data"
    }
   ],
   "source": [
    "import matplotlib.pyplot as plt\n",
    "plt.scatter(train_input, train_target)\n",
    "plt.plot([15, 50], [15*37 - 663, 50*37 - 663]) # 선그래프: plt.plot([시작점, 끝점(절편)])"
   ]
  },
  {
   "cell_type": "code",
   "execution_count": 21,
   "id": "d99ee072-88f4-45a2-bd55-e16e20593b52",
   "metadata": {},
   "outputs": [
    {
     "name": "stdout",
     "output_type": "stream",
     "text": [
      "0.9167189115964669\n",
      "0.9157706499239604\n"
     ]
    }
   ],
   "source": [
    "print(lr.score(train_input, train_target))\n",
    "print(lr.score(test_input, test_target))"
   ]
  },
  {
   "cell_type": "code",
   "execution_count": 23,
   "id": "01cb7ddb-eb90-4a5d-a22a-efed65ed96de",
   "metadata": {},
   "outputs": [
    {
     "name": "stderr",
     "output_type": "stream",
     "text": [
      "C:\\Users\\1-08\\Desktop\\DAMF2\\ml\\venv\\Lib\\site-packages\\sklearn\\utils\\validation.py:2739: UserWarning: X does not have valid feature names, but LinearRegression was fitted with feature names\n",
      "  warnings.warn(\n"
     ]
    },
    {
     "data": {
      "text/plain": [
       "array([[-626.20587197]])"
      ]
     },
     "execution_count": 23,
     "metadata": {},
     "output_type": "execute_result"
    }
   ],
   "source": [
    "lr.predict([[1]]) # 1cm 도미 무게 입력했는데, 음수값 나옴 -> 근데 생선은 음수 무게 가질 수 없음 -> 이는 회귀선이 음수로까지 이어지기 때문"
   ]
  },
  {
   "cell_type": "code",
   "execution_count": 43,
   "id": "478552a5-18fe-45eb-a69b-6ad3ab62e21c",
   "metadata": {},
   "outputs": [],
   "source": [
    "# 다항 회귀\n",
    "\n",
    "# Lenght2 값 제곱해 새 컬럼으로 추가\n",
    "train_input['Length2_poly'] = train_input['Length2'] ** 2\n",
    "test_input['Length2_poly'] = test_input['Length2'] ** 2"
   ]
  },
  {
   "cell_type": "code",
   "execution_count": 45,
   "id": "5ce7dcf4-fbee-43c1-aadb-48ef4303ca00",
   "metadata": {},
   "outputs": [
    {
     "name": "stderr",
     "output_type": "stream",
     "text": [
      "C:\\Users\\1-08\\Desktop\\DAMF2\\ml\\venv\\Lib\\site-packages\\sklearn\\utils\\validation.py:2739: UserWarning: X does not have valid feature names, but LinearRegression was fitted with feature names\n",
      "  warnings.warn(\n"
     ]
    },
    {
     "data": {
      "text/plain": [
       "array([[73.44710456]])"
      ]
     },
     "execution_count": 45,
     "metadata": {},
     "output_type": "execute_result"
    }
   ],
   "source": [
    "lr = LinearRegression()\n",
    "lr.fit(train_input, train_target) # input에 길이, 길이의 제곱 들어 있음\n",
    "lr.score(test_input, test_target)\n",
    "lr.predict([[3, 9]]) # 컬럼 2개 됐으니까, 데이터 2개 넣어야 함 -> lr.predict([[궁금한 무게, 그 값의 제곱값]])"
   ]
  },
  {
   "cell_type": "code",
   "execution_count": 42,
   "id": "91cb6cb3-cdcf-456a-9e20-6bbf1c8657ed",
   "metadata": {},
   "outputs": [
    {
     "name": "stdout",
     "output_type": "stream",
     "text": [
      "[[-22.19684153   1.01734953]] [130.8814834]\n"
     ]
    }
   ],
   "source": [
    "print(lr.coef_, lr.intercept_) # 회귀선: a=1, b=-22, c=130 -> (x, x제곱) 순으로 넣은 거니까, 1번째가 x인 b의 값임"
   ]
  }
 ],
 "metadata": {
  "kernelspec": {
   "display_name": "Python 3 (ipykernel)",
   "language": "python",
   "name": "python3"
  },
  "language_info": {
   "codemirror_mode": {
    "name": "ipython",
    "version": 3
   },
   "file_extension": ".py",
   "mimetype": "text/x-python",
   "name": "python",
   "nbconvert_exporter": "python",
   "pygments_lexer": "ipython3",
   "version": "3.13.2"
  }
 },
 "nbformat": 4,
 "nbformat_minor": 5
}
