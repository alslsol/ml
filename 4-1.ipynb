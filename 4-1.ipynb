{
 "cells": [
  {
   "cell_type": "code",
   "execution_count": 51,
   "id": "cc4a9412-1de5-40aa-a501-a549057d34ac",
   "metadata": {},
   "outputs": [
    {
     "name": "stdout",
     "output_type": "stream",
     "text": [
      "0.8319327731092437\n",
      "0.775\n"
     ]
    },
    {
     "name": "stderr",
     "output_type": "stream",
     "text": [
      "C:\\Users\\1-08\\Desktop\\DAMF2\\ml\\venv\\Lib\\site-packages\\sklearn\\neighbors\\_classification.py:239: DataConversionWarning: A column-vector y was passed when a 1d array was expected. Please change the shape of y to (n_samples,), for example using ravel().\n",
      "  return self._fit(X, y)\n"
     ]
    },
    {
     "data": {
      "text/plain": [
       "array([[0. , 0. , 0. , 1. , 0. , 0. , 0. ],\n",
       "       [0. , 0. , 0.8, 0. , 0.2, 0. , 0. ],\n",
       "       [1. , 0. , 0. , 0. , 0. , 0. , 0. ],\n",
       "       [0. , 0. , 0.8, 0. , 0. , 0. , 0.2],\n",
       "       [0. , 0.4, 0.2, 0. , 0.4, 0. , 0. ],\n",
       "       [0. , 0.4, 0. , 0. , 0.6, 0. , 0. ],\n",
       "       [0. , 0. , 0.6, 0. , 0.2, 0. , 0.2],\n",
       "       [0. , 0. , 0.6, 0. , 0.4, 0. , 0. ],\n",
       "       [0. , 0. , 0.2, 0. , 0.8, 0. , 0. ],\n",
       "       [1. , 0. , 0. , 0. , 0. , 0. , 0. ],\n",
       "       [1. , 0. , 0. , 0. , 0. , 0. , 0. ],\n",
       "       [0. , 0. , 0.8, 0. , 0. , 0. , 0.2],\n",
       "       [0. , 0. , 0.8, 0. , 0. , 0. , 0.2],\n",
       "       [0. , 0. , 0.4, 0. , 0.6, 0. , 0. ],\n",
       "       [0. , 0. , 1. , 0. , 0. , 0. , 0. ],\n",
       "       [0. , 0. , 0. , 0. , 0. , 1. , 0. ],\n",
       "       [1. , 0. , 0. , 0. , 0. , 0. , 0. ],\n",
       "       [0. , 0. , 0.8, 0. , 0.2, 0. , 0. ],\n",
       "       [0. , 0. , 0. , 0. , 0. , 1. , 0. ],\n",
       "       [0. , 0. , 0. , 0. , 0. , 1. , 0. ],\n",
       "       [0. , 0. , 0. , 1. , 0. , 0. , 0. ],\n",
       "       [1. , 0. , 0. , 0. , 0. , 0. , 0. ],\n",
       "       [0.4, 0.6, 0. , 0. , 0. , 0. , 0. ],\n",
       "       [0. , 0. , 0.8, 0. , 0.2, 0. , 0. ],\n",
       "       [0. , 0.4, 0.4, 0. , 0.2, 0. , 0. ],\n",
       "       [0. , 0. , 0. , 1. , 0. , 0. , 0. ],\n",
       "       [0. , 0. , 0.2, 0. , 0.2, 0. , 0.6],\n",
       "       [0. , 0. , 0.6, 0. , 0.4, 0. , 0. ],\n",
       "       [0. , 0. , 0. , 0. , 0. , 1. , 0. ],\n",
       "       [0. , 0. , 0.2, 0.8, 0. , 0. , 0. ],\n",
       "       [0. , 0. , 0.6, 0. , 0.4, 0. , 0. ],\n",
       "       [0. , 0. , 0.8, 0. , 0.2, 0. , 0. ],\n",
       "       [1. , 0. , 0. , 0. , 0. , 0. , 0. ],\n",
       "       [0. , 0. , 1. , 0. , 0. , 0. , 0. ],\n",
       "       [0. , 0. , 0.6, 0. , 0.4, 0. , 0. ],\n",
       "       [0. , 0. , 0.8, 0. , 0.2, 0. , 0. ],\n",
       "       [0. , 0.4, 0.2, 0. , 0.4, 0. , 0. ],\n",
       "       [0. , 0.2, 0.6, 0. , 0.2, 0. , 0. ],\n",
       "       [0. , 0. , 0.4, 0.6, 0. , 0. , 0. ],\n",
       "       [1. , 0. , 0. , 0. , 0. , 0. , 0. ]])"
      ]
     },
     "execution_count": 51,
     "metadata": {},
     "output_type": "execute_result"
    }
   ],
   "source": [
    "# 로지스틱 회귀\n",
    "# k-최근접 이웃 알고리즘 한계 알아보기\n",
    "\n",
    "# 데이터 불러오기\n",
    "import pandas as pd\n",
    "df = pd.read_csv('data/Fish.csv')\n",
    "df['Species'].unique() # 유니크한 값만 출력하기\n",
    "\n",
    "# 일부 컬럼만 추출\n",
    "fish_input = df[['Weight', 'Length2', 'Length3', 'Height', 'Width']]\n",
    "fish_input.head() # 길이, 무게 등 데이터 봤을 때 이게 도미인지, 숭어인지 등 맞추는 것 할 것\n",
    "\n",
    "fish_target = df[['Species']] # 인덱스에 따라 뭐가 숭어/도미인지 정답만 뺀 것 -> target은 정답(이름) 데이터만 가짐\n",
    "\n",
    "# 훈련/테스트 셋 만들기\n",
    "from sklearn.model_selection import train_test_split\n",
    "train_input, test_input, train_target, test_target = train_test_split(fish_input, fish_target)\n",
    "\n",
    "# 표준화하기: 무게, 길이 간 단위 등이 너무 차이나므로 -> 표준화해야 함\n",
    "from sklearn.preprocessing import StandardScaler\n",
    "ss = StandardScaler()\n",
    "ss.fit(train_input, train_target)\n",
    "train_scaled = ss.transform(train_input)\n",
    "test_scaled = ss.transform(test_input)\n",
    "    # input만 표준점수로 바꾸는 것임 -> target은 str이니까\n",
    "\n",
    "# 학습시키기\n",
    "from sklearn.neighbors import KNeighborsClassifier\n",
    "kn = KNeighborsClassifier()\n",
    "kn.fit(train_scaled, train_target)\n",
    "print(kn.score(train_scaled, train_target))\n",
    "print(kn.score(test_scaled, test_target))\n",
    "# > 0.8571428571428571\n",
    "# 0.75\n",
    "# k-최근접 사용했을 때, 정합률 좋지 못함\n",
    "\n",
    "kn.predict_proba(test_scaled)\n",
    "    # k-최근접 이웃 알고리즘: 주변에 뭐가 많은지 다수결 원칙으로 가중치 둬서 정답 도출함\n",
    "        # 단순히 주변에 뭐가 있는지가 중요한 것 -> 무게, 길이에 따라 두께 몇 일 확률 계산하는 게 아닌, 주변의 데이터 무엇인지 다수결인 것"
   ]
  },
  {
   "cell_type": "code",
   "execution_count": 49,
   "id": "12ed807f-3a4a-44f9-aec7-29850c4ad111",
   "metadata": {},
   "outputs": [
    {
     "data": {
      "text/html": [
       "<div>\n",
       "<style scoped>\n",
       "    .dataframe tbody tr th:only-of-type {\n",
       "        vertical-align: middle;\n",
       "    }\n",
       "\n",
       "    .dataframe tbody tr th {\n",
       "        vertical-align: top;\n",
       "    }\n",
       "\n",
       "    .dataframe thead th {\n",
       "        text-align: right;\n",
       "    }\n",
       "</style>\n",
       "<table border=\"1\" class=\"dataframe\">\n",
       "  <thead>\n",
       "    <tr style=\"text-align: right;\">\n",
       "      <th></th>\n",
       "      <th>Species</th>\n",
       "    </tr>\n",
       "  </thead>\n",
       "  <tbody>\n",
       "    <tr>\n",
       "      <th>46</th>\n",
       "      <td>Roach</td>\n",
       "    </tr>\n",
       "    <tr>\n",
       "      <th>56</th>\n",
       "      <td>Whitefish</td>\n",
       "    </tr>\n",
       "    <tr>\n",
       "      <th>68</th>\n",
       "      <td>Parkki</td>\n",
       "    </tr>\n",
       "    <tr>\n",
       "      <th>134</th>\n",
       "      <td>Pike</td>\n",
       "    </tr>\n",
       "    <tr>\n",
       "      <th>155</th>\n",
       "      <td>Smelt</td>\n",
       "    </tr>\n",
       "    <tr>\n",
       "      <th>...</th>\n",
       "      <td>...</td>\n",
       "    </tr>\n",
       "    <tr>\n",
       "      <th>126</th>\n",
       "      <td>Perch</td>\n",
       "    </tr>\n",
       "    <tr>\n",
       "      <th>73</th>\n",
       "      <td>Perch</td>\n",
       "    </tr>\n",
       "    <tr>\n",
       "      <th>24</th>\n",
       "      <td>Bream</td>\n",
       "    </tr>\n",
       "    <tr>\n",
       "      <th>95</th>\n",
       "      <td>Perch</td>\n",
       "    </tr>\n",
       "    <tr>\n",
       "      <th>103</th>\n",
       "      <td>Perch</td>\n",
       "    </tr>\n",
       "  </tbody>\n",
       "</table>\n",
       "<p>119 rows × 1 columns</p>\n",
       "</div>"
      ],
      "text/plain": [
       "       Species\n",
       "46       Roach\n",
       "56   Whitefish\n",
       "68      Parkki\n",
       "134       Pike\n",
       "155      Smelt\n",
       "..         ...\n",
       "126      Perch\n",
       "73       Perch\n",
       "24       Bream\n",
       "95       Perch\n",
       "103      Perch\n",
       "\n",
       "[119 rows x 1 columns]"
      ]
     },
     "execution_count": 49,
     "metadata": {},
     "output_type": "execute_result"
    }
   ],
   "source": [
    "train_target"
   ]
  },
  {
   "cell_type": "code",
   "execution_count": 53,
   "id": "bddeb421-3df4-4204-acfb-4f1056ec8c9f",
   "metadata": {},
   "outputs": [
    {
     "name": "stderr",
     "output_type": "stream",
     "text": [
      "C:\\Users\\1-08\\Desktop\\DAMF2\\ml\\venv\\Lib\\site-packages\\sklearn\\utils\\validation.py:1408: DataConversionWarning: A column-vector y was passed when a 1d array was expected. Please change the shape of y to (n_samples, ), for example using ravel().\n",
      "  y = column_or_1d(y, warn=True)\n"
     ]
    },
    {
     "data": {
      "text/plain": [
       "array([[0.985, 0.015],\n",
       "       [1.   , 0.   ],\n",
       "       [0.979, 0.021],\n",
       "       [0.999, 0.001],\n",
       "       [0.968, 0.032]])"
      ]
     },
     "execution_count": 53,
     "metadata": {},
     "output_type": "execute_result"
    }
   ],
   "source": [
    "# 로지스틱 회귀 분석\n",
    "\n",
    "# 1. 이진 분류: 도미/빙어만 추출\n",
    "bream_smelt_indexes = (train_target == 'Bream') | (train_target == 'Smelt')\n",
    "train_bs = train_scaled[bream_smelt_indexes['Species']] # 현재 train_scaled는 [1, -1, - ...] 이런 식으로 돼 있는데, 이중 true(1)인 것만 고르기 위함\n",
    "target_bs = train_target[bream_smelt_indexes['Species']]\n",
    "    # train_scaled, train_target 모두 도미/빙어만 이진 분류로 필터링\n",
    "\n",
    "# 2. 로지스틱 회귀 모델 불러오기\n",
    "from sklearn.linear_model import LogisticRegression\n",
    "import numpy as np\n",
    "\n",
    "lr = LogisticRegression()\n",
    "lr.fit(train_bs, target_bs) # 이진분류한 것을 토대로 학습\n",
    "lr.predict(train_bs[:5]) # 이진분류된 학습 데이터를 앞에서 5번째까지만 예측하기\n",
    "lr.predict_proba(train_bs[:5]).round(3) # 확률이 어떻길래 각 값을 도미/빙어로 판단한 것인지 확률 보기\n",
    "    # round: numpy의 반올림하는 함수\n",
    "# 로지스틱 회귀 원리: 길이, 높이, 무게 등 데이터를 기반으로 연산해서 이를 확률로 변환 -> 그래서 도미/빙어 판단    "
   ]
  },
  {
   "cell_type": "code",
   "execution_count": 52,
   "id": "f3eb3c7b-a360-4baf-9fdd-ff6365aae257",
   "metadata": {},
   "outputs": [
    {
     "data": {
      "text/html": [
       "<div>\n",
       "<style scoped>\n",
       "    .dataframe tbody tr th:only-of-type {\n",
       "        vertical-align: middle;\n",
       "    }\n",
       "\n",
       "    .dataframe tbody tr th {\n",
       "        vertical-align: top;\n",
       "    }\n",
       "\n",
       "    .dataframe thead th {\n",
       "        text-align: right;\n",
       "    }\n",
       "</style>\n",
       "<table border=\"1\" class=\"dataframe\">\n",
       "  <thead>\n",
       "    <tr style=\"text-align: right;\">\n",
       "      <th></th>\n",
       "      <th>Species</th>\n",
       "    </tr>\n",
       "  </thead>\n",
       "  <tbody>\n",
       "    <tr>\n",
       "      <th>65</th>\n",
       "      <td>False</td>\n",
       "    </tr>\n",
       "    <tr>\n",
       "      <th>90</th>\n",
       "      <td>False</td>\n",
       "    </tr>\n",
       "    <tr>\n",
       "      <th>127</th>\n",
       "      <td>False</td>\n",
       "    </tr>\n",
       "    <tr>\n",
       "      <th>153</th>\n",
       "      <td>True</td>\n",
       "    </tr>\n",
       "    <tr>\n",
       "      <th>108</th>\n",
       "      <td>False</td>\n",
       "    </tr>\n",
       "    <tr>\n",
       "      <th>...</th>\n",
       "      <td>...</td>\n",
       "    </tr>\n",
       "    <tr>\n",
       "      <th>146</th>\n",
       "      <td>True</td>\n",
       "    </tr>\n",
       "    <tr>\n",
       "      <th>50</th>\n",
       "      <td>False</td>\n",
       "    </tr>\n",
       "    <tr>\n",
       "      <th>154</th>\n",
       "      <td>True</td>\n",
       "    </tr>\n",
       "    <tr>\n",
       "      <th>31</th>\n",
       "      <td>True</td>\n",
       "    </tr>\n",
       "    <tr>\n",
       "      <th>112</th>\n",
       "      <td>False</td>\n",
       "    </tr>\n",
       "  </tbody>\n",
       "</table>\n",
       "<p>119 rows × 1 columns</p>\n",
       "</div>"
      ],
      "text/plain": [
       "     Species\n",
       "65     False\n",
       "90     False\n",
       "127    False\n",
       "153     True\n",
       "108    False\n",
       "..       ...\n",
       "146     True\n",
       "50     False\n",
       "154     True\n",
       "31      True\n",
       "112    False\n",
       "\n",
       "[119 rows x 1 columns]"
      ]
     },
     "execution_count": 52,
     "metadata": {},
     "output_type": "execute_result"
    }
   ],
   "source": [
    "bream_smelt_indexes"
   ]
  },
  {
   "cell_type": "code",
   "execution_count": 33,
   "id": "abd1a794-e3f5-45bb-a5cb-7c75de4a98ed",
   "metadata": {},
   "outputs": [
    {
     "name": "stdout",
     "output_type": "stream",
     "text": [
      "0.907563025210084\n",
      "0.975\n"
     ]
    },
    {
     "name": "stderr",
     "output_type": "stream",
     "text": [
      "C:\\Users\\1-08\\Desktop\\DAMF2\\ml\\venv\\Lib\\site-packages\\sklearn\\utils\\validation.py:1408: DataConversionWarning: A column-vector y was passed when a 1d array was expected. Please change the shape of y to (n_samples, ), for example using ravel().\n",
      "  y = column_or_1d(y, warn=True)\n"
     ]
    },
    {
     "data": {
      "text/plain": [
       "array([[0.211, 0.   , 0.359, 0.164, 0.007, 0.   , 0.259],\n",
       "       [0.984, 0.005, 0.   , 0.   , 0.   , 0.   , 0.011],\n",
       "       [0.   , 0.   , 0.004, 0.996, 0.   , 0.   , 0.   ],\n",
       "       [0.997, 0.001, 0.   , 0.   , 0.   , 0.   , 0.002],\n",
       "       [0.01 , 0.924, 0.001, 0.   , 0.038, 0.   , 0.027]])"
      ]
     },
     "execution_count": 33,
     "metadata": {},
     "output_type": "execute_result"
    }
   ],
   "source": [
    "# 다중분류: 7마리 모두 학습\n",
    "lr = LogisticRegression(C=20, max_iter=1000) # 성능 높이기 위해 옵션 지정\n",
    "    # max: 반복 횟수 정하는 것(기본값 100) -> 높을수록 성능 좋아짐\n",
    "lr.fit(train_scaled, train_target) # 7마리 모두 있는 train_scaled 넣은 것\n",
    "print(lr.score(train_scaled, train_target))\n",
    "print(lr.score(test_scaled, test_target))\n",
    "lr.predict_proba(test_scaled[:5]).round(3)"
   ]
  },
  {
   "cell_type": "code",
   "execution_count": 37,
   "id": "a8418c37-39df-4db2-9e10-b5347f0d021c",
   "metadata": {},
   "outputs": [
    {
     "data": {
      "text/plain": [
       "(7, 5)"
      ]
     },
     "execution_count": 37,
     "metadata": {},
     "output_type": "execute_result"
    }
   ],
   "source": [
    "lr.coef_.shape"
   ]
  }
 ],
 "metadata": {
  "kernelspec": {
   "display_name": "Python 3 (ipykernel)",
   "language": "python",
   "name": "python3"
  },
  "language_info": {
   "codemirror_mode": {
    "name": "ipython",
    "version": 3
   },
   "file_extension": ".py",
   "mimetype": "text/x-python",
   "name": "python",
   "nbconvert_exporter": "python",
   "pygments_lexer": "ipython3",
   "version": "3.13.2"
  }
 },
 "nbformat": 4,
 "nbformat_minor": 5
}
