{
 "cells": [
  {
   "cell_type": "code",
   "execution_count": 46,
   "id": "ba6e8ac4-8b5c-401c-a0b3-3a1394e80cae",
   "metadata": {
    "collapsed": true,
    "jupyter": {
     "outputs_hidden": true
    }
   },
   "outputs": [
    {
     "name": "stdout",
     "output_type": "stream",
     "text": [
      "0.8067226890756303\n",
      "0.85\n"
     ]
    },
    {
     "name": "stderr",
     "output_type": "stream",
     "text": [
      "C:\\Users\\1-08\\Desktop\\DAMF2\\ml\\venv\\Lib\\site-packages\\sklearn\\utils\\validation.py:1408: DataConversionWarning: A column-vector y was passed when a 1d array was expected. Please change the shape of y to (n_samples, ), for example using ravel().\n",
      "  y = column_or_1d(y, warn=True)\n"
     ]
    }
   ],
   "source": [
    "# 확률적 경사 하강법\n",
    "\n",
    "# 1. 데이터 불러오기\n",
    "import pandas as pd\n",
    "df = pd.read_csv('data/Fish.csv')\n",
    "\n",
    "fish_input = df[['Weight', 'Length2', 'Length3', 'Height', 'Width']]\n",
    "fish_target = df[['Species']]\n",
    "\n",
    "# 2. 훈련/테스트 셋 구분하기\n",
    "from sklearn.model_selection import train_test_split\n",
    "train_input, test_input, train_target, test_target = train_test_split(fish_input, fish_target)\n",
    "\n",
    "# 3. 정규화하기\n",
    "from sklearn.preprocessing import StandardScaler\n",
    "ss = StandardScaler()\n",
    "ss.fit(train_input, train_target) # fit해야 transform 작동, \n",
    "train_scaled = ss.transform(train_input)\n",
    "test_scaled = ss.transform(test_input)\n",
    "\n",
    "# 4. SGD # 분류모델은 클래스 name에 Classifier 붙어 있음\n",
    "from sklearn.linear_model import SGDClassifier\n",
    "sc = SGDClassifier(loss='log_loss', max_iter=100) # log_loss 방식 활용하는데, 100번 반복해 100개의 그래프 그리겠단 것 >> max_iter: 에포크 몇 번 돌릴거냐는 것\n",
    "    # loss 기본값: hinge임 | loss, max_iter 값 조정해서 최적 옵션 설정해야 함\n",
    "sc.fit(train_scaled, train_target)\n",
    "print(sc.score(train_scaled, train_target))\n",
    "print(sc.score(test_scaled, test_target))"
   ]
  },
  {
   "cell_type": "code",
   "execution_count": 53,
   "id": "055a47b7-b1d7-4932-8fd0-a49f839f2265",
   "metadata": {},
   "outputs": [
    {
     "name": "stdout",
     "output_type": "stream",
     "text": [
      "0.8739495798319328\n",
      "0.95\n"
     ]
    },
    {
     "name": "stderr",
     "output_type": "stream",
     "text": [
      "C:\\Users\\1-08\\Desktop\\DAMF2\\ml\\venv\\Lib\\site-packages\\sklearn\\utils\\validation.py:1408: DataConversionWarning: A column-vector y was passed when a 1d array was expected. Please change the shape of y to (n_samples, ), for example using ravel().\n",
      "  y = column_or_1d(y, warn=True)\n"
     ]
    }
   ],
   "source": [
    "# 100번 반복한 것을 다시 이어서 반복하도록 한 것 >> 총 200번 돌린 것\n",
    "sc.partial_fit(train_scaled, train_target)\n",
    "print(sc.score(train_scaled, train_target))\n",
    "print(sc.score(test_scaled, test_target))\n",
    "    # 근데 무작정 에포크 많이 돌린다고 좋은 건 아님, 최적화 지점 찾아야 함\n",
    "    # 에포크 반복은 어느 수준 이상 돌리면 일정한 지점 나옴 -> 최적화 지점 있단 것\n"
   ]
  }
 ],
 "metadata": {
  "kernelspec": {
   "display_name": "Python 3 (ipykernel)",
   "language": "python",
   "name": "python3"
  },
  "language_info": {
   "codemirror_mode": {
    "name": "ipython",
    "version": 3
   },
   "file_extension": ".py",
   "mimetype": "text/x-python",
   "name": "python",
   "nbconvert_exporter": "python",
   "pygments_lexer": "ipython3",
   "version": "3.13.2"
  }
 },
 "nbformat": 4,
 "nbformat_minor": 5
}
