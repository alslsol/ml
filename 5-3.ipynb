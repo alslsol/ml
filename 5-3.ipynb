{
 "cells": [
  {
   "cell_type": "code",
   "execution_count": 11,
   "id": "48f828da-d9f8-4440-8f7b-c3117cc0d70d",
   "metadata": {},
   "outputs": [
    {
     "name": "stderr",
     "output_type": "stream",
     "text": [
      "C:\\Users\\1-08\\Desktop\\DAMF2\\ml\\venv\\Lib\\site-packages\\sklearn\\base.py:1389: DataConversionWarning: A column-vector y was passed when a 1d array was expected. Please change the shape of y to (n_samples,), for example using ravel().\n",
      "  return fit_method(estimator, *args, **kwargs)\n",
      "C:\\Users\\1-08\\Desktop\\DAMF2\\ml\\venv\\Lib\\site-packages\\sklearn\\base.py:1389: DataConversionWarning: A column-vector y was passed when a 1d array was expected. Please change the shape of y to (n_samples,), for example using ravel().\n",
      "  return fit_method(estimator, *args, **kwargs)\n",
      "C:\\Users\\1-08\\Desktop\\DAMF2\\ml\\venv\\Lib\\site-packages\\sklearn\\base.py:1389: DataConversionWarning: A column-vector y was passed when a 1d array was expected. Please change the shape of y to (n_samples,), for example using ravel().\n",
      "  return fit_method(estimator, *args, **kwargs)\n",
      "C:\\Users\\1-08\\Desktop\\DAMF2\\ml\\venv\\Lib\\site-packages\\sklearn\\base.py:1389: DataConversionWarning: A column-vector y was passed when a 1d array was expected. Please change the shape of y to (n_samples,), for example using ravel().\n",
      "  return fit_method(estimator, *args, **kwargs)\n",
      "C:\\Users\\1-08\\Desktop\\DAMF2\\ml\\venv\\Lib\\site-packages\\sklearn\\base.py:1389: DataConversionWarning: A column-vector y was passed when a 1d array was expected. Please change the shape of y to (n_samples,), for example using ravel().\n",
      "  return fit_method(estimator, *args, **kwargs)\n"
     ]
    },
    {
     "name": "stdout",
     "output_type": "stream",
     "text": [
      "{'fit_time': array([0.23510957, 0.21250963, 0.23644924, 0.24351645, 0.22711492]), 'score_time': array([0.01385522, 0.01479435, 0.01445127, 0.02084541, 0.02046585]), 'test_score': array([0.87897436, 0.90666667, 0.90554415, 0.88398357, 0.8788501 ]), 'train_score': array([0.99769053, 0.99717732, 0.99794767, 0.9969215 , 0.99743458])}\n"
     ]
    },
    {
     "name": "stderr",
     "output_type": "stream",
     "text": [
      "C:\\Users\\1-08\\Desktop\\DAMF2\\ml\\venv\\Lib\\site-packages\\sklearn\\base.py:1389: DataConversionWarning: A column-vector y was passed when a 1d array was expected. Please change the shape of y to (n_samples,), for example using ravel().\n",
      "  return fit_method(estimator, *args, **kwargs)\n",
      "C:\\Users\\1-08\\Desktop\\DAMF2\\ml\\venv\\Lib\\site-packages\\sklearn\\base.py:1389: DataConversionWarning: A column-vector y was passed when a 1d array was expected. Please change the shape of y to (n_samples,), for example using ravel().\n",
      "  return fit_method(estimator, *args, **kwargs)\n"
     ]
    },
    {
     "data": {
      "text/plain": [
       "0.8903940886699507"
      ]
     },
     "execution_count": 11,
     "metadata": {},
     "output_type": "execute_result"
    }
   ],
   "source": [
    "# 랜덤 포레스트\n",
    "\n",
    "# 불러오기\n",
    "import pandas as pd\n",
    "df = pd.read_csv('http://bit.ly/wine_csv_data')\n",
    "\n",
    "data = df.drop(columns='class')\n",
    "target = df[['class']]\n",
    "\n",
    "# 셋 구분\n",
    "from sklearn.model_selection import train_test_split\n",
    "train_input, test_input, train_target, test_target = train_test_split(data, target)\n",
    "\n",
    "# sklearn의 앙상블 + cross_validate\n",
    "from sklearn.model_selection import cross_validate # 랜덤 포레스트에 데이터 여럿 주기 위해 호출\n",
    "from sklearn.ensemble import RandomForestClassifier # 랜덤 앙상블 클래스 선언\n",
    "\n",
    "rf = RandomForestClassifier(n_jobs=1)\n",
    "scores = cross_validate(rf, \n",
    "                        train_input, \n",
    "                        train_target, \n",
    "                        return_train_score=True, \n",
    "                        n_jobs=1)\n",
    "    # rf의 t_i, t_t를 기준으로 하겠단 것\n",
    "print(scores)\n",
    "    # scores: test_score, train_score 주요히 봐야 함 >> 훈련셋은 점수 높은데, 테스트셋은 낮음 >> 훈련세트에 과대적합된 것\n",
    "\n",
    "# 결정 트리 기반으로 만들어졌기에, 결정 트리의 옵션 등 사용 가능\n",
    "rf.fit(train_input, train_target) # fit 해야 feature_importance_ 사용 가능\n",
    "rf.feature_importances_ # 특성별 중요도 수치화한 것 >> 레드/화이트 와인 구분에 있어 당도가 더 중요\n",
    "\n",
    "# 결정 트리: 알콜, 당도, pH 3개 모두 보며 각각 나무 만듦\n",
    "# 랜덤 포레스트: 쓰고 싶은 특성 1개만 빼고 만들어보고, 그렇게 랜덤하게 나무 만듦 -> 그래서 과대적합 줄이고 일반화 가능하도록 만듦\n",
    "    # 랜덤 추출하니까 한번도 쓰이지 못한 특성 생길 수 있음(OOB) -> 이것만 빼서 이 데이터를 기반으로 평가 수행하도록 함\n",
    "rf = RandomForestClassifier(oob_score=True, n_jobs=1)\n",
    "rf.fit(train_input, train_target)\n",
    "rf.oob_score_\n",
    "# 이 특성은 관련성 있다/없다 모두 중요한 내용임 -> 가장 중요하지 않은 특성 역시 알 필요 있음"
   ]
  },
  {
   "cell_type": "code",
   "execution_count": 12,
   "id": "f46aa580-1269-4c19-98a4-4b12276ddde1",
   "metadata": {},
   "outputs": [
    {
     "name": "stderr",
     "output_type": "stream",
     "text": [
      "C:\\Users\\1-08\\Desktop\\DAMF2\\ml\\venv\\Lib\\site-packages\\sklearn\\base.py:1389: DataConversionWarning: A column-vector y was passed when a 1d array was expected. Please change the shape of y to (n_samples,), for example using ravel().\n",
      "  return fit_method(estimator, *args, **kwargs)\n",
      "C:\\Users\\1-08\\Desktop\\DAMF2\\ml\\venv\\Lib\\site-packages\\sklearn\\base.py:1389: DataConversionWarning: A column-vector y was passed when a 1d array was expected. Please change the shape of y to (n_samples,), for example using ravel().\n",
      "  return fit_method(estimator, *args, **kwargs)\n",
      "C:\\Users\\1-08\\Desktop\\DAMF2\\ml\\venv\\Lib\\site-packages\\sklearn\\base.py:1389: DataConversionWarning: A column-vector y was passed when a 1d array was expected. Please change the shape of y to (n_samples,), for example using ravel().\n",
      "  return fit_method(estimator, *args, **kwargs)\n",
      "C:\\Users\\1-08\\Desktop\\DAMF2\\ml\\venv\\Lib\\site-packages\\sklearn\\base.py:1389: DataConversionWarning: A column-vector y was passed when a 1d array was expected. Please change the shape of y to (n_samples,), for example using ravel().\n",
      "  return fit_method(estimator, *args, **kwargs)\n",
      "C:\\Users\\1-08\\Desktop\\DAMF2\\ml\\venv\\Lib\\site-packages\\sklearn\\base.py:1389: DataConversionWarning: A column-vector y was passed when a 1d array was expected. Please change the shape of y to (n_samples,), for example using ravel().\n",
      "  return fit_method(estimator, *args, **kwargs)\n"
     ]
    },
    {
     "name": "stdout",
     "output_type": "stream",
     "text": [
      "{'fit_time': array([0.21479702, 0.18885326, 0.19499803, 0.23171377, 0.20311475]), 'score_time': array([0.02092957, 0.01838827, 0.02040863, 0.0179894 , 0.02107859]), 'test_score': array([0.88307692, 0.90051282, 0.90451745, 0.88193018, 0.88193018]), 'train_score': array([0.99794714, 0.99743392, 0.99794767, 0.9969215 , 0.99743458])}\n"
     ]
    }
   ],
   "source": [
    "# 엑스트라 트리\n",
    "\n",
    "from sklearn.ensemble import ExtraTreesClassifier\n",
    "et = ExtraTreesClassifier(n_jobs=1)\n",
    "scores = cross_validate(et,\n",
    "                        train_input,\n",
    "                        train_target,\n",
    "                       return_train_score=True) # train_score도 출력하도록 지정\n",
    "print(scores)"
   ]
  },
  {
   "cell_type": "code",
   "execution_count": 15,
   "id": "b149f338-8931-4bf0-abc7-0d9eecd74bf5",
   "metadata": {},
   "outputs": [
    {
     "name": "stderr",
     "output_type": "stream",
     "text": [
      "C:\\Users\\1-08\\Desktop\\DAMF2\\ml\\venv\\Lib\\site-packages\\sklearn\\preprocessing\\_label.py:110: DataConversionWarning: A column-vector y was passed when a 1d array was expected. Please change the shape of y to (n_samples, ), for example using ravel().\n",
      "  y = column_or_1d(y, warn=True)\n",
      "C:\\Users\\1-08\\Desktop\\DAMF2\\ml\\venv\\Lib\\site-packages\\sklearn\\preprocessing\\_label.py:110: DataConversionWarning: A column-vector y was passed when a 1d array was expected. Please change the shape of y to (n_samples, ), for example using ravel().\n",
      "  y = column_or_1d(y, warn=True)\n",
      "C:\\Users\\1-08\\Desktop\\DAMF2\\ml\\venv\\Lib\\site-packages\\sklearn\\preprocessing\\_label.py:110: DataConversionWarning: A column-vector y was passed when a 1d array was expected. Please change the shape of y to (n_samples, ), for example using ravel().\n",
      "  y = column_or_1d(y, warn=True)\n",
      "C:\\Users\\1-08\\Desktop\\DAMF2\\ml\\venv\\Lib\\site-packages\\sklearn\\preprocessing\\_label.py:110: DataConversionWarning: A column-vector y was passed when a 1d array was expected. Please change the shape of y to (n_samples, ), for example using ravel().\n",
      "  y = column_or_1d(y, warn=True)\n",
      "C:\\Users\\1-08\\Desktop\\DAMF2\\ml\\venv\\Lib\\site-packages\\sklearn\\preprocessing\\_label.py:110: DataConversionWarning: A column-vector y was passed when a 1d array was expected. Please change the shape of y to (n_samples, ), for example using ravel().\n",
      "  y = column_or_1d(y, warn=True)\n"
     ]
    },
    {
     "name": "stdout",
     "output_type": "stream",
     "text": [
      "{'fit_time': array([1.05605507, 1.05224991, 0.97944283, 0.98696589, 1.02110457]), 'score_time': array([0.00706244, 0.00707006, 0.00705767, 0.00711393, 0.00727558]), 'test_score': array([0.85435897, 0.87384615, 0.89014374, 0.87166324, 0.8798768 ]), 'train_score': array([0.92584039, 0.92378753, 0.923294  , 0.92303746, 0.92970754])}\n"
     ]
    }
   ],
   "source": [
    "# 그레이디\n",
    "from sklearn.ensemble import GradientBoostingClassifier\n",
    "gb = GradientBoostingClassifier(n_estimators=500) # 나무 500그루 심겠다는 것 -> 기본값: 100 >> 그럼 점수 더 상승하게 됨\n",
    "scores = cross_validate(\n",
    "    gb, train_input, train_target,\n",
    "    return_train_score=True)\n",
    "print(scores)\n",
    "\n",
    "# 작고 일반화된 나무를 활용 -> 훈련셋에 과대적합 되는 것 방지 -> 훈련/테스트 score 점수 비슷하게 나옴"
   ]
  },
  {
   "cell_type": "code",
   "execution_count": 16,
   "id": "90d4234c-ac19-4092-a2b9-a820b745205e",
   "metadata": {},
   "outputs": [
    {
     "name": "stderr",
     "output_type": "stream",
     "text": [
      "C:\\Users\\1-08\\Desktop\\DAMF2\\ml\\venv\\Lib\\site-packages\\sklearn\\utils\\validation.py:1408: DataConversionWarning: A column-vector y was passed when a 1d array was expected. Please change the shape of y to (n_samples, ), for example using ravel().\n",
      "  y = column_or_1d(y, warn=True)\n",
      "C:\\Users\\1-08\\Desktop\\DAMF2\\ml\\venv\\Lib\\site-packages\\sklearn\\utils\\validation.py:1408: DataConversionWarning: A column-vector y was passed when a 1d array was expected. Please change the shape of y to (n_samples, ), for example using ravel().\n",
      "  y = column_or_1d(y, warn=True)\n",
      "C:\\Users\\1-08\\Desktop\\DAMF2\\ml\\venv\\Lib\\site-packages\\sklearn\\utils\\validation.py:1408: DataConversionWarning: A column-vector y was passed when a 1d array was expected. Please change the shape of y to (n_samples, ), for example using ravel().\n",
      "  y = column_or_1d(y, warn=True)\n",
      "C:\\Users\\1-08\\Desktop\\DAMF2\\ml\\venv\\Lib\\site-packages\\sklearn\\utils\\validation.py:1408: DataConversionWarning: A column-vector y was passed when a 1d array was expected. Please change the shape of y to (n_samples, ), for example using ravel().\n",
      "  y = column_or_1d(y, warn=True)\n",
      "C:\\Users\\1-08\\Desktop\\DAMF2\\ml\\venv\\Lib\\site-packages\\sklearn\\utils\\validation.py:1408: DataConversionWarning: A column-vector y was passed when a 1d array was expected. Please change the shape of y to (n_samples, ), for example using ravel().\n",
      "  y = column_or_1d(y, warn=True)\n"
     ]
    },
    {
     "name": "stdout",
     "output_type": "stream",
     "text": [
      "{'fit_time': array([0.28786397, 0.18057275, 0.17065024, 0.18463469, 0.18820548]), 'score_time': array([0.00757051, 0.00856161, 0.00723076, 0.00740457, 0.00702286]), 'test_score': array([0.86461538, 0.87384615, 0.89219713, 0.88911704, 0.86858316]), 'train_score': array([0.93430844, 0.93225558, 0.93509492, 0.93304259, 0.93406875])}\n"
     ]
    }
   ],
   "source": [
    "from sklearn.ensemble import HistGradientBoostingClassifier\n",
    "hgb = HistGradientBoostingClassifier()\n",
    "scores = cross_validate(hgb, train_input, train_target,\n",
    "                       return_train_score=True)\n",
    "print(scores)\n",
    "# 그루핑해서 데이터 묶음처리 >> 속도 빠름 + 여러 데이터 같이 봐서 과대적합 방진"
   ]
  },
  {
   "cell_type": "code",
   "execution_count": 18,
   "id": "e72107e3-23eb-441a-98ce-ccd4ca6e0808",
   "metadata": {},
   "outputs": [
    {
     "name": "stderr",
     "output_type": "stream",
     "text": [
      "C:\\Users\\1-08\\Desktop\\DAMF2\\ml\\venv\\Lib\\site-packages\\sklearn\\utils\\validation.py:1408: DataConversionWarning: A column-vector y was passed when a 1d array was expected. Please change the shape of y to (n_samples, ), for example using ravel().\n",
      "  y = column_or_1d(y, warn=True)\n"
     ]
    },
    {
     "name": "stdout",
     "output_type": "stream",
     "text": [
      "[0.08944992 0.24708539 0.09347291]\n"
     ]
    }
   ],
   "source": [
    "from sklearn.inspection import permutation_importance\n",
    "hgb.fit(train_input, train_target) # 일단 모든 데이터로 학습시킨 뒤 >> 그 다음에 랜덤하게 섞어서 학습시켜 비교할 것\n",
    "scores = permutation_importance(hgb, train_input, train_target)\n",
    "print(scores.importances_mean) # 어떤 특성이 가장 중요한가 보여달라는 것 >> 와인 데이터 중 당도 평균이 가장 높음 -> 당도가 중요 특성임 확인"
   ]
  },
  {
   "cell_type": "code",
   "execution_count": null,
   "id": "c87c9385-1d09-4a0a-8d3b-f8f26a0912ab",
   "metadata": {},
   "outputs": [],
   "source": []
  }
 ],
 "metadata": {
  "kernelspec": {
   "display_name": "Python 3 (ipykernel)",
   "language": "python",
   "name": "python3"
  },
  "language_info": {
   "codemirror_mode": {
    "name": "ipython",
    "version": 3
   },
   "file_extension": ".py",
   "mimetype": "text/x-python",
   "name": "python",
   "nbconvert_exporter": "python",
   "pygments_lexer": "ipython3",
   "version": "3.13.2"
  }
 },
 "nbformat": 4,
 "nbformat_minor": 5
}
