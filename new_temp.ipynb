{
 "cells": [
  {
   "cell_type": "code",
   "execution_count": 3,
   "id": "32941f7e-b82c-481b-8b13-690d858d4bdb",
   "metadata": {},
   "outputs": [
    {
     "data": {
      "text/html": [
       "<div>\n",
       "<style scoped>\n",
       "    .dataframe tbody tr th:only-of-type {\n",
       "        vertical-align: middle;\n",
       "    }\n",
       "\n",
       "    .dataframe tbody tr th {\n",
       "        vertical-align: top;\n",
       "    }\n",
       "\n",
       "    .dataframe thead th {\n",
       "        text-align: right;\n",
       "    }\n",
       "</style>\n",
       "<table border=\"1\" class=\"dataframe\">\n",
       "  <thead>\n",
       "    <tr style=\"text-align: right;\">\n",
       "      <th></th>\n",
       "      <th>HeartDisease</th>\n",
       "      <th>BMI</th>\n",
       "      <th>Smoking</th>\n",
       "      <th>AlcoholDrinking</th>\n",
       "      <th>Stroke</th>\n",
       "      <th>PhysicalHealth</th>\n",
       "      <th>MentalHealth</th>\n",
       "      <th>DiffWalking</th>\n",
       "      <th>Sex</th>\n",
       "      <th>AgeCategory</th>\n",
       "      <th>Race</th>\n",
       "      <th>Diabetic</th>\n",
       "      <th>PhysicalActivity</th>\n",
       "      <th>GenHealth</th>\n",
       "      <th>SleepTime</th>\n",
       "      <th>Asthma</th>\n",
       "      <th>KidneyDisease</th>\n",
       "      <th>SkinCancer</th>\n",
       "    </tr>\n",
       "  </thead>\n",
       "  <tbody>\n",
       "    <tr>\n",
       "      <th>0</th>\n",
       "      <td>No</td>\n",
       "      <td>16.60</td>\n",
       "      <td>Yes</td>\n",
       "      <td>No</td>\n",
       "      <td>No</td>\n",
       "      <td>3.0</td>\n",
       "      <td>30.0</td>\n",
       "      <td>No</td>\n",
       "      <td>Female</td>\n",
       "      <td>55-59</td>\n",
       "      <td>White</td>\n",
       "      <td>Yes</td>\n",
       "      <td>Yes</td>\n",
       "      <td>Very good</td>\n",
       "      <td>5.0</td>\n",
       "      <td>Yes</td>\n",
       "      <td>No</td>\n",
       "      <td>Yes</td>\n",
       "    </tr>\n",
       "    <tr>\n",
       "      <th>1</th>\n",
       "      <td>No</td>\n",
       "      <td>20.34</td>\n",
       "      <td>No</td>\n",
       "      <td>No</td>\n",
       "      <td>Yes</td>\n",
       "      <td>0.0</td>\n",
       "      <td>0.0</td>\n",
       "      <td>No</td>\n",
       "      <td>Female</td>\n",
       "      <td>80 or older</td>\n",
       "      <td>White</td>\n",
       "      <td>No</td>\n",
       "      <td>Yes</td>\n",
       "      <td>Very good</td>\n",
       "      <td>7.0</td>\n",
       "      <td>No</td>\n",
       "      <td>No</td>\n",
       "      <td>No</td>\n",
       "    </tr>\n",
       "    <tr>\n",
       "      <th>2</th>\n",
       "      <td>No</td>\n",
       "      <td>26.58</td>\n",
       "      <td>Yes</td>\n",
       "      <td>No</td>\n",
       "      <td>No</td>\n",
       "      <td>20.0</td>\n",
       "      <td>30.0</td>\n",
       "      <td>No</td>\n",
       "      <td>Male</td>\n",
       "      <td>65-69</td>\n",
       "      <td>White</td>\n",
       "      <td>Yes</td>\n",
       "      <td>Yes</td>\n",
       "      <td>Fair</td>\n",
       "      <td>8.0</td>\n",
       "      <td>Yes</td>\n",
       "      <td>No</td>\n",
       "      <td>No</td>\n",
       "    </tr>\n",
       "    <tr>\n",
       "      <th>3</th>\n",
       "      <td>No</td>\n",
       "      <td>24.21</td>\n",
       "      <td>No</td>\n",
       "      <td>No</td>\n",
       "      <td>No</td>\n",
       "      <td>0.0</td>\n",
       "      <td>0.0</td>\n",
       "      <td>No</td>\n",
       "      <td>Female</td>\n",
       "      <td>75-79</td>\n",
       "      <td>White</td>\n",
       "      <td>No</td>\n",
       "      <td>No</td>\n",
       "      <td>Good</td>\n",
       "      <td>6.0</td>\n",
       "      <td>No</td>\n",
       "      <td>No</td>\n",
       "      <td>Yes</td>\n",
       "    </tr>\n",
       "    <tr>\n",
       "      <th>4</th>\n",
       "      <td>No</td>\n",
       "      <td>23.71</td>\n",
       "      <td>No</td>\n",
       "      <td>No</td>\n",
       "      <td>No</td>\n",
       "      <td>28.0</td>\n",
       "      <td>0.0</td>\n",
       "      <td>Yes</td>\n",
       "      <td>Female</td>\n",
       "      <td>40-44</td>\n",
       "      <td>White</td>\n",
       "      <td>No</td>\n",
       "      <td>Yes</td>\n",
       "      <td>Very good</td>\n",
       "      <td>8.0</td>\n",
       "      <td>No</td>\n",
       "      <td>No</td>\n",
       "      <td>No</td>\n",
       "    </tr>\n",
       "  </tbody>\n",
       "</table>\n",
       "</div>"
      ],
      "text/plain": [
       "  HeartDisease    BMI Smoking AlcoholDrinking Stroke  PhysicalHealth  \\\n",
       "0           No  16.60     Yes              No     No             3.0   \n",
       "1           No  20.34      No              No    Yes             0.0   \n",
       "2           No  26.58     Yes              No     No            20.0   \n",
       "3           No  24.21      No              No     No             0.0   \n",
       "4           No  23.71      No              No     No            28.0   \n",
       "\n",
       "   MentalHealth DiffWalking     Sex  AgeCategory   Race Diabetic  \\\n",
       "0          30.0          No  Female        55-59  White      Yes   \n",
       "1           0.0          No  Female  80 or older  White       No   \n",
       "2          30.0          No    Male        65-69  White      Yes   \n",
       "3           0.0          No  Female        75-79  White       No   \n",
       "4           0.0         Yes  Female        40-44  White       No   \n",
       "\n",
       "  PhysicalActivity  GenHealth  SleepTime Asthma KidneyDisease SkinCancer  \n",
       "0              Yes  Very good        5.0    Yes            No        Yes  \n",
       "1              Yes  Very good        7.0     No            No         No  \n",
       "2              Yes       Fair        8.0    Yes            No         No  \n",
       "3               No       Good        6.0     No            No        Yes  \n",
       "4              Yes  Very good        8.0     No            No         No  "
      ]
     },
     "execution_count": 3,
     "metadata": {},
     "output_type": "execute_result"
    }
   ],
   "source": [
    "# 랜덤 포레스트\n",
    "import pandas as pd\n",
    "df = pd.read_csv('data/my/heart_2020_cleaned.csv')\n",
    "# pd.set_option('future.no_silent_downcasting', True)\n",
    "# df = df.replace({'No': 0, 'Yes': 1}) # 일괄적으로 no=0, yes=1로 변환\n",
    "# no=1, yes=1로 일괄 변경하려던 눈물나는 흔적..\n",
    "        # 맨 처음에 모든 컬럼을 변수로 잡고 분석을 해보려고 했는데.. 그래서 no=0, yes=1으로 일괄 바꿔주고, 나머지 문자열은 분석에서 제외하려 했는데... object인 탓에 변경을 하려면 한세월일 것 같아서 잽싸게 포기했다...!\n",
    "            # 그래서 애초에 float인 컬럼 4개만 x에 할당하고 분석을 진행했다\n",
    "df.head()"
   ]
  },
  {
   "cell_type": "code",
   "execution_count": 4,
   "id": "ac0d82a4-76d0-44a7-954d-9b44aece3766",
   "metadata": {},
   "outputs": [
    {
     "name": "stdout",
     "output_type": "stream",
     "text": [
      "{'fit_time': array([19.93349171, 15.72529793, 20.42244387, 19.5484252 , 22.11352205]), 'score_time': array([1.13975573, 1.16606688, 1.14881492, 1.08568907, 1.18812323]), 'test_score': array([0.89528872, 0.89536993, 0.89474452, 0.89549501, 0.89470283]), 'train_score': array([0.95129146, 0.95113015, 0.95157835, 0.95104155, 0.95169301])}\n"
     ]
    }
   ],
   "source": [
    "# 불러오기\n",
    "y = df['HeartDisease'].map({'No': 0, 'Yes': 1})\n",
    "x = df[['BMI', 'PhysicalHealth', 'MentalHealth', 'SleepTime']]\n",
    "\n",
    "# 셋 구분\n",
    "# x = input, y=target\n",
    "from sklearn.model_selection import train_test_split\n",
    "x_train, x_test, y_train, y_test = train_test_split(x, y)\n",
    "\n",
    "# 클래스 선언 + 교차 검증\\n\",\n",
    "from sklearn.ensemble import RandomForestClassifier\n",
    "from sklearn.model_selection import cross_validate\n",
    "rf = RandomForestClassifier()\n",
    "scores = cross_validate(rf, x_train, y_train, return_train_score=True)\n",
    "print(scores)\n",
    "    # 과대적합 + 속도 너무 오래 걸림: 19"
   ]
  },
  {
   "cell_type": "code",
   "execution_count": 5,
   "id": "6193ef19-1ce4-4d23-8d1a-c12d478171f7",
   "metadata": {},
   "outputs": [
    {
     "name": "stdout",
     "output_type": "stream",
     "text": [
      "{'fit_time': array([11.67372632, 11.60630441, 10.96128273, 11.51878262, 11.49808073]), 'score_time': array([1.45673347, 1.32353902, 1.34691787, 1.42529964, 1.43441439]), 'test_score': array([0.89013967, 0.8900123 , 0.88919927, 0.89132565, 0.88949113]), 'train_score': array([0.95134358, 0.95118227, 0.95162526, 0.95107803, 0.95170865])}\n"
     ]
    }
   ],
   "source": [
    "# 성능 향상 위한 여정...엑스트라 트리로\n",
    "# 학습\n",
    "from sklearn.ensemble import ExtraTreesClassifier\n",
    "et = ExtraTreesClassifier()\n",
    "scores2 = cross_validate(et, x_train, y_train, return_train_score=True)\n",
    "print(scores2)\n",
    "    # 여전히 속도 너무 느림...: 11\n",
    "    # 그리고 과대적합 문제가 여전히 심각하다\""
   ]
  },
  {
   "cell_type": "code",
   "execution_count": 6,
   "id": "4567585a-7ebe-4f04-aefc-e1236fbbf658",
   "metadata": {},
   "outputs": [
    {
     "name": "stdout",
     "output_type": "stream",
     "text": [
      "{'fit_time': array([10.6576705 , 11.00800633,  9.62571812,  9.62566137, 10.03331017]), 'score_time': array([0.05931878, 0.06103086, 0.0819149 , 0.06255436, 0.0637784 ]), 'test_score': array([0.91432145, 0.91436136, 0.91429882, 0.91431966, 0.91434051]), 'train_score': array([0.91440826, 0.91441392, 0.91440871, 0.91438265, 0.91441392])}\n"
     ]
    }
   ],
   "source": [
    "\n",
    "# 성능 향상을 위한 여정2... GradientBoosting\n",
    "from sklearn.ensemble import GradientBoostingClassifier\n",
    "gb = GradientBoostingClassifier()\n",
    "scores3 = cross_validate(gb, x_train, y_train, return_train_score=True)\n",
    "print(scores3)\n",
    "    # 9초... 2배나 절약했다! 장족의 발전이지만 성능 향상을 위한 여정에 다시 떠나본다\n",
    "    # 그래도 그레이디언트부스팅을 하니까, 과대적합은 많이 해소됐다!\""
   ]
  },
  {
   "cell_type": "code",
   "execution_count": 7,
   "id": "bca8cd2e-78c7-4f61-933f-7d93f680f2d2",
   "metadata": {},
   "outputs": [
    {
     "name": "stdout",
     "output_type": "stream",
     "text": [
      "{'fit_time': array([1.09479427, 0.87837434, 0.94323945, 0.95362425, 0.84527898]), 'score_time': array([0.09726691, 0.11243367, 0.12107849, 0.12233233, 0.12283444]), 'test_score': array([0.9143423 , 0.91436136, 0.91436136, 0.91436136, 0.91434051]), 'train_score': array([0.91435615, 0.91435138, 0.91435138, 0.91435138, 0.91435659])}\n"
     ]
    }
   ],
   "source": [
    "# 성능 향상을 위한 여정3... HistGradientBoostingClassifier.. 이름도 참 길다, 속도는 빠르길..\n",
    "from sklearn.ensemble import HistGradientBoostingClassifier\n",
    "hgb = HistGradientBoostingClassifier()\n",
    "scores4 = cross_validate(hgb, x_train, y_train, return_train_score=True)\n",
    "print(scores4)\n",
    "# 댑박!! 0.8초로 엄청 단축됐다! 이름은 엄청 길지만 속도는 초특급이었다~\n",
    "# 과대적합 역시 보이지 않고, train과 test score가 비슷한 수준으로 긍정적이다!\""
   ]
  },
  {
   "cell_type": "code",
   "execution_count": 9,
   "id": "8716ad21-e0f5-4699-a3c8-f33421927bb7",
   "metadata": {},
   "outputs": [
    {
     "data": {
      "text/plain": [
       "array([1, 1, 1, 1, 1, 0, 1, 1, 1, 1, 1, 1, 1, 1, 1, 1, 1, 1, 0, 1, 1, 1,\n",
       "       1, 1, 1, 1, 1, 1, 1, 1, 1, 1, 1, 1, 1, 1, 1, 1, 1, 1, 1, 1, 0, 1,\n",
       "       0, 1, 1, 1, 1, 1, 1, 1, 0, 1, 1, 1, 1, 1, 1, 1, 1, 1, 0, 0, 1, 1,\n",
       "       1, 1, 1, 1, 1, 1, 0, 1, 1, 1, 1, 1, 1, 1, 1, 1, 1, 1, 1, 1, 1, 1,\n",
       "       1, 1, 1, 0, 1, 1, 1, 1, 1, 1, 1, 1, 0, 0, 0, 0, 0, 0, 0, 0, 0, 0,\n",
       "       0, 0, 0, 0, 0, 0, 0, 0, 0, 0, 0, 0, 0, 0, 0, 0, 0, 0, 0, 0, 0, 0,\n",
       "       0, 0, 0, 0, 0, 0, 0, 0, 0, 0, 0, 0, 0, 0, 0, 0, 0, 0, 0, 0, 0, 0,\n",
       "       0, 0, 0, 0, 0, 0, 0, 0, 0, 0, 0, 0, 0, 0, 0, 0, 0, 0, 0, 0, 0, 0,\n",
       "       0, 0, 0, 0, 0, 0, 0, 0, 0, 0, 0, 0, 0, 0, 0, 0, 0, 0, 0, 0, 0, 0,\n",
       "       0, 0, 2, 2, 2, 2, 2, 2, 2, 2, 2, 2, 2, 2, 2, 2, 2, 2, 2, 2, 2, 2,\n",
       "       2, 2, 2, 2, 2, 2, 2, 2, 2, 2, 2, 0, 2, 2, 2, 2, 2, 2, 2, 2, 2, 2,\n",
       "       2, 2, 2, 2, 2, 2, 2, 2, 2, 2, 2, 2, 2, 2, 2, 2, 2, 2, 2, 2, 2, 2,\n",
       "       2, 2, 2, 2, 2, 2, 2, 2, 2, 0, 2, 2, 2, 2, 2, 2, 2, 2, 2, 2, 2, 2,\n",
       "       2, 2, 2, 2, 2, 2, 2, 2, 2, 2, 2, 2, 2, 2], dtype=int32)"
      ]
     },
     "execution_count": 9,
     "metadata": {},
     "output_type": "execute_result"
    }
   ],
   "source": [
    "# 클러스터\n",
    "# 불러오기\n",
    "import numpy as np\n",
    "fruits = np.load('data/fruits_300.npy')\n",
    "fruits_2d = fruits.reshape(-1, 100*100)\n",
    "\n",
    "# 학습\n",
    "from sklearn.cluster import KMeans\n",
    "km = KMeans(n_clusters=3) # n_clusters: 몇개의 과일을 분류할지 정하는 것\n",
    "km.fit(fruits_2d)\n",
    "km.labels_\n",
    "# 클러스터는 시각화가 핵심일 것 같은데 그건 더 연습을 해봐야 할 듯,,"
   ]
  }
 ],
 "metadata": {
  "kernelspec": {
   "display_name": "Python 3 (ipykernel)",
   "language": "python",
   "name": "python3"
  },
  "language_info": {
   "codemirror_mode": {
    "name": "ipython",
    "version": 3
   },
   "file_extension": ".py",
   "mimetype": "text/x-python",
   "name": "python",
   "nbconvert_exporter": "python",
   "pygments_lexer": "ipython3",
   "version": "3.13.2"
  }
 },
 "nbformat": 4,
 "nbformat_minor": 5
}
